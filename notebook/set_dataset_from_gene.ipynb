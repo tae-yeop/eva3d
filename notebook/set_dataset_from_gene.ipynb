{
 "cells": [
  {
   "cell_type": "code",
   "execution_count": 62,
   "metadata": {},
   "outputs": [],
   "source": [
    "import os\n",
    "import sys\n",
    "import numpy as np\n",
    "import cv2\n",
    "\n",
    "from pathlib import Path\n",
    "import shutil\n",
    "import pickle"
   ]
  },
  {
   "cell_type": "code",
   "execution_count": 2,
   "metadata": {},
   "outputs": [],
   "source": [
    "root_path = '/home/aiteam/tykim/generative_model/human/EVA3D/datasets'\n",
    "sub_list = ['maria', 'zhuna', 'soufianou_boubacar_moumouni', 'natacha', 'mahaoran', 'joseph_matanda', 'jinyutong', 'fuzhizhi', 'barry', 'amanda']\n"
   ]
  },
  {
   "cell_type": "code",
   "execution_count": 6,
   "metadata": {},
   "outputs": [],
   "source": [
    "dest_gene_path = Path(root_path).joinpath('Genebody')"
   ]
  },
  {
   "cell_type": "code",
   "execution_count": 7,
   "metadata": {},
   "outputs": [],
   "source": [
    "dest_gene_path.mkdir(parents=True, exist_ok=True)"
   ]
  },
  {
   "cell_type": "code",
   "execution_count": 39,
   "metadata": {},
   "outputs": [],
   "source": [
    "dest_img_path = dest_gene_path.joinpath('images')\n",
    "dest_segm_path = dest_gene_path.joinpath('segm')\n",
    "\n",
    "dest_img_path.mkdir(parents=True, exist_ok=True)\n",
    "dest_segm_path.mkdir(parents=True, exist_ok=True)"
   ]
  },
  {
   "cell_type": "code",
   "execution_count": 9,
   "metadata": {},
   "outputs": [
    {
     "data": {
      "text/plain": [
       "PosixPath('/home/aiteam/tykim/generative_model/human/EVA3D/datasets/maria')"
      ]
     },
     "execution_count": 9,
     "metadata": {},
     "output_type": "execute_result"
    }
   ],
   "source": [
    "each_sub_path = Path(root_path).joinpath(sub_list[0])\n",
    "each_sub_path"
   ]
  },
  {
   "cell_type": "code",
   "execution_count": 19,
   "metadata": {},
   "outputs": [],
   "source": [
    "# 전체 데이터중에서 n개만 얻기 : 인덱스 얻기\n",
    "total_list = sorted(list(each_sub_path.joinpath('param').rglob('*.npy')))"
   ]
  },
  {
   "cell_type": "code",
   "execution_count": 27,
   "metadata": {},
   "outputs": [],
   "source": [
    "start = int(total_list[0].name.replace('.npy', ''))\n",
    "end = int(total_list[-1].name.replace('.npy', ''))"
   ]
  },
  {
   "cell_type": "code",
   "execution_count": 30,
   "metadata": {},
   "outputs": [],
   "source": [
    "idx_list = np.linspace(start, stop=end, num=10, dtype=np.int32)"
   ]
  },
  {
   "cell_type": "code",
   "execution_count": 31,
   "metadata": {},
   "outputs": [],
   "source": [
    "camera_list = ['01', '13', '25', '37']"
   ]
  },
  {
   "cell_type": "code",
   "execution_count": 32,
   "metadata": {},
   "outputs": [],
   "source": [
    "cam_id = camera_list[0]"
   ]
  },
  {
   "cell_type": "code",
   "execution_count": 40,
   "metadata": {},
   "outputs": [],
   "source": [
    "test = {}"
   ]
  },
  {
   "cell_type": "code",
   "execution_count": 42,
   "metadata": {},
   "outputs": [],
   "source": [
    "test['a'] = {}"
   ]
  },
  {
   "cell_type": "code",
   "execution_count": 45,
   "metadata": {},
   "outputs": [],
   "source": [
    "test['a']['b'] = 100\n",
    "test['a']['c'] = 200"
   ]
  },
  {
   "cell_type": "code",
   "execution_count": 46,
   "metadata": {},
   "outputs": [
    {
     "data": {
      "text/plain": [
       "{'asdasd': {}, 'a': {'b': 100, 'c': 200}}"
      ]
     },
     "execution_count": 46,
     "metadata": {},
     "output_type": "execute_result"
    }
   ],
   "source": [
    "test"
   ]
  },
  {
   "cell_type": "code",
   "execution_count": 63,
   "metadata": {},
   "outputs": [],
   "source": [
    "smpl = {}\n",
    "\n",
    "\n",
    "for idx in idx_list:\n",
    "    img_path = each_sub_path.joinpath('image', cam_id, f'0{str(idx)}.jpg')\n",
    "    seg_path = each_sub_path.joinpath('mask', cam_id, f'mask0{str(idx)}.png')\n",
    "    smpl_param_path = each_sub_path.joinpath('param',  f'0{str(idx)}.npy')\n",
    "\n",
    "    dest_img = dest_img_path.joinpath(f'{str(idx)}_{cam_id}_{sub_list[0]}.jpg')\n",
    "    dest_seg = dest_segm_path.joinpath(f'mask0{str(idx)}_{cam_id}_{sub_list[0]}.png')\n",
    "\n",
    "\n",
    "    # get smpl from gene\n",
    "    smpl_data = np.load(smpl_param_path, allow_pickle=True).item()\n",
    "    smpl[f'{str(idx)}_{cam_id}_{sub_list[0]}'] = {}\n",
    "    smpl[f'{str(idx)}_{cam_id}_{sub_list[0]}']['body_pose'] = smpl_data['smplx']['body_pose'].reshape(1, -1) #reshape\n",
    "    smpl[f'{str(idx)}_{cam_id}_{sub_list[0]}']['global_orient'] = smpl_data['smplx']['global_orient']\n",
    "    smpl[f'{str(idx)}_{cam_id}_{sub_list[0]}']['betas'] = smpl_data['smplx']['betas']\n",
    "\n",
    "    # ['camera_rotation'], ['camera_translation']\n",
    "\n",
    "    # get cam anno from gene\n",
    "    annotation = np.load(each_sub_path.joinpath('annots.npy'), allow_pickle=True)\n",
    "\n",
    "    c2w_R = annotation.item()['cams'][cam_id]['c2w_R']\n",
    "    c2w_T = annotation.item()['cams'][cam_id]['c2w_T']\n",
    "\n",
    "    R_smplx = np.matmul(np.array([[0, 0, 1], [0, -1, 0], [1, 0, 0]]), c2w_R, dtype=np.float32)\n",
    "    R_smplx = np.matmul(np.array([[1, 0, 0], [0, 0, -1], [0, 1, 0]]), R_smplx,  dtype=np.float32)\n",
    "    \n",
    "    smpl[f'{str(idx)}_{cam_id}_{sub_list[0]}']['camera_rotation'] = R_smplx\n",
    "    smpl[f'{str(idx)}_{cam_id}_{sub_list[0]}']['camera_translation'] = c2w_T.astype(np.float32)\n",
    "\n",
    "    shutil.copy2(img_path, dest_img)\n",
    "    shutil.copy2(seg_path, dest_seg)\n",
    "\n",
    "with open(dest_gene_path.joinpath('smpl.pkl'), 'wb') as f:\n",
    "    pickle.dump(smpl, f)"
   ]
  },
  {
   "cell_type": "code",
   "execution_count": null,
   "metadata": {},
   "outputs": [],
   "source": [
    "with open('/home/aiteam/tykim/generative_model/human/EVA3D/datasets/DeepFashion/smpl.pkl', 'rb') as f:\n",
    "    data = pickle.load(f)"
   ]
  },
  {
   "cell_type": "code",
   "execution_count": 69,
   "metadata": {},
   "outputs": [],
   "source": [
    "sub_list = ['maria']"
   ]
  },
  {
   "cell_type": "code",
   "execution_count": 70,
   "metadata": {},
   "outputs": [],
   "source": [
    "# 8 * 10 * 10 = 800 장\n",
    "smpl = {}\n",
    "camera_list = ['01', '13', '25', '37', '07', '19', '31', '43']\n",
    "\n",
    "dest_gene_path = Path(root_path).joinpath('Genebody')\n",
    "dest_img_path = dest_gene_path.joinpath('images')\n",
    "dest_segm_path = dest_gene_path.joinpath('segm')\n",
    "\n",
    "dest_img_path.mkdir(parents=True, exist_ok=True)\n",
    "dest_segm_path.mkdir(parents=True, exist_ok=True)\n",
    "\n",
    "\n",
    "for sub_name in sub_list:\n",
    "    each_sub_path = Path(root_path).joinpath(sub_name)\n",
    "    # 전체 데이터중에서 n개만 얻기 : 인덱스 얻기\n",
    "    total_list = sorted(list(each_sub_path.joinpath('param').rglob('*.npy')))\n",
    "\n",
    "    start = int(total_list[0].name.replace('.npy', ''))\n",
    "    end = int(total_list[-1].name.replace('.npy', ''))\n",
    "\n",
    "    idx_list = np.linspace(start, stop=end, num=10, dtype=np.int32)\n",
    "\n",
    "    for cam_id in camera_list:\n",
    "        for idx in idx_list:\n",
    "            img_path = each_sub_path.joinpath('image', cam_id, f'0{str(idx)}.jpg')\n",
    "            seg_path = each_sub_path.joinpath('mask', cam_id, f'mask0{str(idx)}.png')\n",
    "            smpl_param_path = each_sub_path.joinpath('param',  f'0{str(idx)}.npy')\n",
    "\n",
    "            dest_img = dest_img_path.joinpath(f'{str(idx)}_{cam_id}_{sub_list[0]}.jpg')\n",
    "            dest_seg = dest_segm_path.joinpath(f'mask0{str(idx)}_{cam_id}_{sub_list[0]}.png')\n",
    "\n",
    "\n",
    "            # get smpl from gene\n",
    "            smpl_data = np.load(smpl_param_path, allow_pickle=True).item()\n",
    "            smpl[f'{str(idx)}_{cam_id}_{sub_list[0]}'] = {}\n",
    "            smpl[f'{str(idx)}_{cam_id}_{sub_list[0]}']['body_pose'] = smpl_data['smplx']['body_pose'].reshape(1, -1) #reshape\n",
    "            smpl[f'{str(idx)}_{cam_id}_{sub_list[0]}']['global_orient'] = smpl_data['smplx']['global_orient']\n",
    "            smpl[f'{str(idx)}_{cam_id}_{sub_list[0]}']['betas'] = smpl_data['smplx']['betas']\n",
    "\n",
    "            # ['camera_rotation'], ['camera_translation']\n",
    "\n",
    "            # get cam anno from gene\n",
    "            annotation = np.load(each_sub_path.joinpath('annots.npy'), allow_pickle=True)\n",
    "\n",
    "            c2w_R = annotation.item()['cams'][cam_id]['c2w_R']\n",
    "            c2w_T = annotation.item()['cams'][cam_id]['c2w_T']\n",
    "\n",
    "            R_smplx = np.matmul(np.array([[0, 0, 1], [0, -1, 0], [1, 0, 0]]), c2w_R, dtype=np.float32)\n",
    "            R_smplx = np.matmul(np.array([[1, 0, 0], [0, 0, -1], [0, 1, 0]]), R_smplx,  dtype=np.float32)\n",
    "            \n",
    "            smpl[f'{str(idx)}_{cam_id}_{sub_list[0]}']['camera_rotation'] = R_smplx\n",
    "            smpl[f'{str(idx)}_{cam_id}_{sub_list[0]}']['camera_translation'] = c2w_T.astype(np.float32)\n",
    "\n",
    "            shutil.copy2(img_path, dest_img)\n",
    "            shutil.copy2(seg_path, dest_seg)"
   ]
  },
  {
   "cell_type": "code",
   "execution_count": 71,
   "metadata": {},
   "outputs": [],
   "source": [
    "with open(dest_gene_path.joinpath('smpl.pkl'), 'wb') as f:\n",
    "    pickle.dump(smpl, f)"
   ]
  },
  {
   "cell_type": "code",
   "execution_count": 74,
   "metadata": {},
   "outputs": [],
   "source": [
    "with open('/home/aiteam/tykim/generative_model/human/EVA3D/datasets/Genebody/smpl.pkl', 'rb') as f:\n",
    "    data = pickle.load(f)"
   ]
  },
  {
   "cell_type": "code",
   "execution_count": 76,
   "metadata": {},
   "outputs": [
    {
     "data": {
      "text/plain": [
       "80"
      ]
     },
     "execution_count": 76,
     "metadata": {},
     "output_type": "execute_result"
    }
   ],
   "source": [
    "len(list(data.keys()))"
   ]
  }
 ],
 "metadata": {
  "kernelspec": {
   "display_name": "3dfm",
   "language": "python",
   "name": "python3"
  },
  "language_info": {
   "codemirror_mode": {
    "name": "ipython",
    "version": 3
   },
   "file_extension": ".py",
   "mimetype": "text/x-python",
   "name": "python",
   "nbconvert_exporter": "python",
   "pygments_lexer": "ipython3",
   "version": "3.8.15"
  },
  "orig_nbformat": 4
 },
 "nbformat": 4,
 "nbformat_minor": 2
}
